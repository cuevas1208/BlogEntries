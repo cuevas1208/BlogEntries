{
 "cells": [
  {
   "cell_type": "code",
   "execution_count": null,
   "metadata": {
    "collapsed": true
   },
   "outputs": [],
   "source": [
    "### tf.slim cifar10 with vgg16\n",
    "Tutorial:\n",
    "https://github.com/tensorflow/tensorflow/blob/129665119ea60640f7ed921f36db9b5c23455224/tensorflow/contrib/slim/python/slim/learning.py\n",
    "    "
   ]
  },
  {
   "cell_type": "markdown",
   "metadata": {},
   "source": [
    "## Prepare images"
   ]
  },
  {
   "cell_type": "code",
   "execution_count": 1,
   "metadata": {},
   "outputs": [
    {
     "name": "stdout",
     "output_type": "stream",
     "text": [
      "Loading data: ./data/CIFAR-10/cifar-10-batches-py/batches.meta\n",
      "Loading data: ./data/CIFAR-10/cifar-10-batches-py/data_batch_1\n",
      "Loading data: ./data/CIFAR-10/cifar-10-batches-py/data_batch_2\n",
      "Loading data: ./data/CIFAR-10/cifar-10-batches-py/data_batch_3\n",
      "Loading data: ./data/CIFAR-10/cifar-10-batches-py/data_batch_4\n",
      "Loading data: ./data/CIFAR-10/cifar-10-batches-py/data_batch_5\n",
      "Loading data: ./data/CIFAR-10/cifar-10-batches-py/test_batch\n",
      "images_train.shape (50000, 32, 32, 3)\n"
     ]
    }
   ],
   "source": [
    "import cifar10\n",
    "import os\n",
    "\n",
    "# The CIFAR-10 data-set is about 163 MB and will be downloaded automatically\n",
    "if os.path.exists(\"./data/CIFAR-10/\"):\n",
    "    cifar10.data_path = \"./data/CIFAR-10/\"\n",
    "else:\n",
    "    cifar10.maybe_download_and_extract()\n",
    "class_names = cifar10.load_class_names()\n",
    "\n",
    "images_train, cls_train, labels_train = cifar10.load_training_data()\n",
    "\n",
    "images_test, cls_test, labels_test = cifar10.load_test_data()\n",
    "print(\"images_train.shape\",images_train.shape)"
   ]
  },
  {
   "cell_type": "code",
   "execution_count": 2,
   "metadata": {},
   "outputs": [
    {
     "name": "stderr",
     "output_type": "stream",
     "text": [
      "C:\\Users\\cueva\\Anaconda3\\envs\\tf_gpu\\lib\\site-packages\\h5py\\__init__.py:36: FutureWarning: Conversion of the second argument of issubdtype from `float` to `np.floating` is deprecated. In future, it will be treated as `np.float64 == np.dtype(float).type`.\n",
      "  from ._conv import register_converters as _register_converters\n"
     ]
    },
    {
     "name": "stdout",
     "output_type": "stream",
     "text": [
      "(500, 224, 224, 3)\n",
      "(500, 224, 224, 3)\n",
      "(500, 10)\n"
     ]
    }
   ],
   "source": [
    "import tensorflow as tf\n",
    "\n",
    "x = tf.placeholder(tf.float32, (None, 32, 32, 3))\n",
    "resizedImages = tf.image.resize_images(x, (224,224)) \n",
    "\n",
    "config = tf.ConfigProto()\n",
    "config.gpu_options.allocator_type = 'BFC'\n",
    "with tf.Session(config = config) as sess:\n",
    "    sess.run(tf.global_variables_initializer())\n",
    "    output = sess.run(resizedImages, feed_dict={x: images_train[:500]})\n",
    "    print (output.shape)\n",
    "    \n",
    "images = output\n",
    "labels = labels_train[:500]\n",
    "print (images.shape)\n",
    "print (labels.shape)"
   ]
  },
  {
   "cell_type": "markdown",
   "metadata": {},
   "source": [
    "## Laod model and retrain"
   ]
  },
  {
   "cell_type": "code",
   "execution_count": null,
   "metadata": {},
   "outputs": [
    {
     "name": "stdout",
     "output_type": "stream",
     "text": [
      "INFO:tensorflow:Starting Session.\n",
      "INFO:tensorflow:global_step/sec: 0\n",
      "INFO:tensorflow:Starting Queues.\n",
      "INFO:tensorflow:Saving checkpoint to path ./vgg_log\\model.ckpt\n"
     ]
    }
   ],
   "source": [
    "'''\n",
    "example code comes from:\n",
    "https://github.com/tensorflow/tensorflow/tree/master/tensorflow/contrib/slim\n",
    "'''\n",
    "\n",
    "import tensorflow as tf\n",
    "import tensorflow.contrib.slim.nets as nets\n",
    "\n",
    "\n",
    "# init slim, get vgg net\n",
    "slim = tf.contrib.slim\n",
    "vgg = nets.vgg\n",
    "\n",
    "\n",
    "# create log dir\n",
    "train_log_dir = \"./vgg_log\"\n",
    "if not tf.gfile.Exists(train_log_dir):\n",
    "    tf.gfile.MakeDirs(train_log_dir)\n",
    "\n",
    "with tf.Graph().as_default():\n",
    "    # Set up the data loading:\n",
    "    images, labels = images.astype('float32'), cls_train\n",
    "\n",
    "    # Define the model:\n",
    "    predictions, _ = vgg.vgg_16(images, is_training=True)\n",
    "\n",
    "    # Specify the loss function:\n",
    "    loss = slim.losses.softmax_cross_entropy(predictions, labels)\n",
    "    #slim.losses.softmax_cross_entropy(predictions, labels)\n",
    "\n",
    "    #total_loss = slim.losses.get_total_loss()\n",
    "    #tf.summary.scalar('losses/total_loss', total_loss)\n",
    "\n",
    "    # Specify the optimization scheme:\n",
    "    #optimizer = tf.train.GradientDescentOptimizer(learning_rate=.001)\n",
    "\n",
    "    # create_train_op that ensures that when we evaluate it to get the loss,\n",
    "    # the update_ops are done and the gradient updates are computed.\n",
    "    #train_tensor = slim.learning.create_train_op(total_loss, optimizer)\n",
    "\n",
    "    # Actually runs training.\n",
    "    slim.learning.train(loss, train_log_dir)"
   ]
  },
  {
   "cell_type": "raw",
   "metadata": {},
   "source": [
    "## another example\n",
    "https://zhuanlan.zhihu.com/p/31990755\n",
    "https://hk.saowen.com/a/fd9ec22cd4055104c3583bea28b4d4f3289a1c236bb54f51e8c90f902aea77f9"
   ]
  },
  {
   "cell_type": "markdown",
   "metadata": {},
   "source": [
    "# Load Model and Predict\n",
    "https://github.com/oduerr/tf_r/blob/master/load_vgg16/load_vgg16.py"
   ]
  },
  {
   "cell_type": "code",
   "execution_count": null,
   "metadata": {},
   "outputs": [],
   "source": [
    "import cv2\n",
    "import numpy as np\n",
    "import tensorflow as tf\n",
    "import tensorflow.contrib.slim as slim\n",
    "import tensorflow.contrib.slim.nets as nets\n",
    "\n",
    "img1 = cv2.imread('./data/apple.jpg')\n",
    "\n",
    "print(img1.shape)\n",
    "print(\"Some pixels {}\".format(img1[199,199:205,0]))\n",
    "#plt.imshow(img1)\n",
    "#plt.show()\n",
    "\n",
    "images = tf.placeholder(tf.float32, [None, None, None, 3])\n",
    "imgs_scaled = tf.image.resize_images(images, (224,224))\n",
    "\n",
    "fc8, _endpoints = slim.nets.vgg.vgg_16(imgs_scaled, is_training=False)\n",
    "variables_to_restore = slim.get_variables_to_restore()\n",
    "print('Number of variables to restore {}'.format(len(variables_to_restore)))\n",
    "init_assign_op, init_feed_dict = slim.assign_from_checkpoint('./weights/vgg_16.ckpt', variables_to_restore)\n",
    "\n",
    "# tf.train.SummaryWriter('/tmp/dumm/vgg16_py', tf.get_default_graph()).close()\n",
    "\n",
    "with tf.Session() as sess:\n",
    "    sess.run(init_assign_op, init_feed_dict)\n",
    "    prob = sess.run(fc8, {images:[img1]})[0]\n",
    "    print(\"The first predictions {}\".format(prob[0:5]))\n",
    "    preds = (np.argsort(prob)[::-1])[0:10]\n",
    "    for p in preds:\n",
    "        print (p)"
   ]
  }
 ],
 "metadata": {
  "kernelspec": {
   "display_name": "Python [conda env:tf_gpu]",
   "language": "python",
   "name": "conda-env-tf_gpu-py"
  },
  "language_info": {
   "codemirror_mode": {
    "name": "ipython",
    "version": 3
   },
   "file_extension": ".py",
   "mimetype": "text/x-python",
   "name": "python",
   "nbconvert_exporter": "python",
   "pygments_lexer": "ipython3",
   "version": "3.6.4"
  }
 },
 "nbformat": 4,
 "nbformat_minor": 2
}
