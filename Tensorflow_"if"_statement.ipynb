{
  "nbformat": 4,
  "nbformat_minor": 0,
  "metadata": {
    "colab": {
      "name": "Tensorflow \"if\" statement.ipynb",
      "version": "0.3.2",
      "provenance": []
    }
  },
  "cells": [
    {
      "cell_type": "markdown",
      "metadata": {
        "id": "view-in-github",
        "colab_type": "text"
      },
      "source": [
        "[View in Colaboratory](https://colab.research.google.com/github/cuevas1208/ML_Notes_and_Research/blob/master/Tensorflow_%22if%22_statement.ipynb)"
      ]
    },
    {
      "metadata": {
        "id": "r6pUvKgeYEjo",
        "colab_type": "code",
        "colab": {
          "base_uri": "https://localhost:8080/",
          "height": 85
        },
        "outputId": "12868438-f1a5-4594-fc9e-11390fe4614e"
      },
      "cell_type": "code",
      "source": [
        "import tensorflow as tf\n",
        "\n",
        "# Placeholder variables\n",
        "a = tf.Variable([[1, 1], [1, 1]], dtype=tf.float32, name=\"a\")\n",
        "b = tf.Variable([[2, 2], [2, 2]], dtype=tf.float32, name=\"b\")\n",
        "training_mode = tf.placeholder_with_default(False, [], name=None)\n",
        "\n",
        "# augment while training\n",
        "val_if_false = a\n",
        "val_if_true = tf.matmul(a, b, name=\"op_matmul\")\n",
        "multiplication = tf.where(training_mode, val_if_true, val_if_false)\n",
        "\n",
        "# initialize session\n",
        "with tf.Session() as sess:\n",
        "    sess.run(tf.global_variables_initializer())\n",
        "\n",
        "    # training\n",
        "    results = sess.run(multiplication, feed_dict={training_mode: True})\n",
        "\n",
        "    print(\"true\", results)\n",
        "\n",
        "    # training\n",
        "    results = sess.run(multiplication, feed_dict={training_mode: False})\n",
        "\n",
        "    print(\"false\", results)"
      ],
      "execution_count": 1,
      "outputs": [
        {
          "output_type": "stream",
          "text": [
            "('true', array([[4., 4.],\n",
            "       [4., 4.]], dtype=float32))\n",
            "('false', array([[1., 1.],\n",
            "       [1., 1.]], dtype=float32))\n"
          ],
          "name": "stdout"
        }
      ]
    }
  ]
}