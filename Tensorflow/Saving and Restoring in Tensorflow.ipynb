{
 "cells": [
  {
   "cell_type": "markdown",
   "metadata": {},
   "source": [
    "# Saving and restoring in Tensorflow"
   ]
  },
  {
   "cell_type": "markdown",
   "metadata": {},
   "source": [
    "## 1. Saving Model:"
   ]
  },
  {
   "cell_type": "code",
   "execution_count": 1,
   "metadata": {},
   "outputs": [
    {
     "name": "stdout",
     "output_type": "stream",
     "text": [
      "output: [[ 4.  4.]\n",
      " [ 4.  4.]]\n",
      "a: [[ 1.  1.]\n",
      " [ 1.  1.]]\n",
      "Model saved in file: ./model\n"
     ]
    }
   ],
   "source": [
    "import tensorflow as tf\n",
    "save_path = \"./\"\n",
    "save_file = \"model\"\n",
    "\n",
    "# Create some variables.\n",
    "# NOTE:It is important to name variables and ops you would like to execute \n",
    "a = tf.Variable([[1,1], [1,1]], dtype=tf.float32, name=\"a\")\n",
    "b = tf.Variable([[2,2], [2,2]], dtype=tf.float32, name=\"b\")\n",
    "c = tf.matmul(a,b, name = \"op_matmul\")\n",
    "\n",
    "# initialize all variables.\n",
    "init_op = tf.global_variables_initializer()\n",
    "\n",
    "\n",
    "with tf.Session() as sess:\n",
    "    sess.run(init_op)\n",
    "    output = sess.run(c)\n",
    "    print(\"output: {}\" .format(output))\n",
    "    print(\"a: {}\" .format(a.eval()))\n",
    "\n",
    "    #saver to save and restore all the variables.\n",
    "    saver = tf.train.Saver()\n",
    "    saver.save(sess, save_path + save_file)\n",
    "    print(\"Model saved in file: %s\" % save_path + save_file)"
   ]
  },
  {
   "cell_type": "markdown",
   "metadata": {
    "collapsed": true
   },
   "source": [
    "## 2. Restore Variables\n",
    "#### Tesnorflow has to know the name of the variables to restore them"
   ]
  },
  {
   "cell_type": "code",
   "execution_count": 2,
   "metadata": {},
   "outputs": [
    {
     "name": "stdout",
     "output_type": "stream",
     "text": [
      "INFO:tensorflow:Restoring parameters from ./model\n",
      "a: [[ 1.  1.]\n",
      " [ 1.  1.]]\n",
      "b: [[ 2.  2.]\n",
      " [ 2.  2.]]\n"
     ]
    }
   ],
   "source": [
    "#RESER GRAPH\n",
    "tf.reset_default_graph()\n",
    "\n",
    "#Note: becase the name of the varialbe is not specified \n",
    "# tensorflow will not retore the store values to these variables \n",
    "a = tf.Variable([[0,0], [0,0]], dtype=tf.float32, name=\"a\")\n",
    "b = tf.Variable([[0,0], [0,0]], dtype=tf.float32, name=\"b\")\n",
    "\n",
    "# initialize all variables.\n",
    "init_op = tf.global_variables_initializer()\n",
    "\n",
    "sess = tf.Session()\n",
    "sess.run(init_op)\n",
    "# saver to save and restore all the variables.\n",
    "saver = tf.train.Saver()\n",
    "saver.restore(sess, tf.train.latest_checkpoint(save_path))\n",
    "\n",
    "print(\"a: {}\" .format(a.eval(sess)))\n",
    "print(\"b: {}\" .format(b.eval(sess)))"
   ]
  },
  {
   "cell_type": "markdown",
   "metadata": {},
   "source": [
    "## 3. Restore and assign a specific variable "
   ]
  },
  {
   "cell_type": "code",
   "execution_count": 3,
   "metadata": {},
   "outputs": [
    {
     "name": "stdout",
     "output_type": "stream",
     "text": [
      "INFO:tensorflow:Restoring parameters from ./model\n",
      "a: [[ 2.  2.]\n",
      " [ 2.  2.]]\n",
      "b: [[ 1.  1.]\n",
      " [ 1.  1.]]\n"
     ]
    }
   ],
   "source": [
    "new_saver = tf.train.Saver({'a': b, 'b': a})\n",
    "new_saver.restore(sess, tf.train.latest_checkpoint(save_path))\n",
    "print(\"a: {}\" .format(a.eval(sess)))\n",
    "print(\"b: {}\" .format(b.eval(sess)))"
   ]
  },
  {
   "cell_type": "markdown",
   "metadata": {},
   "source": [
    "If you try to run an op with out restoring the graph you would get \n",
    "an error like this one\n",
    "\n",
    "    output = sess.run(c)\n",
    "    print(\"output: {}\" .format(output))\n",
    "\n",
    "'''ValueError: Fetch argument <tf.Tensor 'op_matmul:0' shape=(2, 2) \n",
    "dtype=float32> cannot be interpreted as a Tensor. \n",
    "(Tensor Tensor(\"op_matmul:0\", shape=(2, 2), dtype=float32) \n",
    "is not an element of this graph.) '''"
   ]
  },
  {
   "cell_type": "markdown",
   "metadata": {},
   "source": [
    "## 4. Restore graph and excecute restored ops \n",
    "In this example we do not need to declare varaibles; they are already initialized within the restored graph(import_meta_graph)"
   ]
  },
  {
   "cell_type": "code",
   "execution_count": 4,
   "metadata": {},
   "outputs": [
    {
     "name": "stdout",
     "output_type": "stream",
     "text": [
      "INFO:tensorflow:Restoring parameters from ./model\n",
      "output: [[ 4.  4.]\n",
      " [ 4.  4.]]\n"
     ]
    }
   ],
   "source": [
    "import tensorflow as tf\n",
    "#RESER GRAPH\n",
    "tf.reset_default_graph()\n",
    "save_path = \"./\"\n",
    "save_file = \"model\"\n",
    "\n",
    "sess = tf.Session()\n",
    "saver = tf.train.import_meta_graph(save_path + save_file + '.meta')\n",
    "saver.restore(sess, tf.train.latest_checkpoint(save_path))\n",
    "#NOTE: It's important to name ops you would like to execute \n",
    "output = sess.run('op_matmul:0')\n",
    "\n",
    "print(\"output: {}\" .format(output))"
   ]
  }
 ],
 "metadata": {
  "kernelspec": {
   "display_name": "Python [conda env:Anaconda3]",
   "language": "python",
   "name": "conda-env-Anaconda3-py"
  },
  "language_info": {
   "codemirror_mode": {
    "name": "ipython",
    "version": 3
   },
   "file_extension": ".py",
   "mimetype": "text/x-python",
   "name": "python",
   "nbconvert_exporter": "python",
   "pygments_lexer": "ipython3",
   "version": "3.6.3"
  }
 },
 "nbformat": 4,
 "nbformat_minor": 2
}
