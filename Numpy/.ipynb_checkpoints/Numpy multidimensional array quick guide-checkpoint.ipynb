{
 "cells": [
  {
   "cell_type": "markdown",
   "metadata": {},
   "source": [
    "# Numpy array multi dimentions quick guide "
   ]
  },
  {
   "cell_type": "markdown",
   "metadata": {},
   "source": [
    "##  1. One dimentioanal examples"
   ]
  },
  {
   "cell_type": "code",
   "execution_count": 10,
   "metadata": {},
   "outputs": [],
   "source": [
    "import numpy as np\n",
    "numbers = np.array((0,1,2,3,4))\n",
    "letters = np.array(('a','b','c','d','e'))"
   ]
  },
  {
   "cell_type": "markdown",
   "metadata": {},
   "source": [
    "Concatenate and hstack work the same way, exept that hstack has only takes 1 positional argument"
   ]
  },
  {
   "cell_type": "code",
   "execution_count": 31,
   "metadata": {},
   "outputs": [
    {
     "data": {
      "text/plain": [
       "array(['0', '1', '2', '3', '4', 'a', 'b', 'c', 'd', 'e', 'a', 'b', 'c',\n",
       "       'd', 'e'],\n",
       "      dtype='<U11')"
      ]
     },
     "execution_count": 31,
     "metadata": {},
     "output_type": "execute_result"
    }
   ],
   "source": [
    "np.concatenate((numbers, letters))\n",
    "np.hstack((numbers, letters))"
   ]
  },
  {
   "cell_type": "code",
   "execution_count": 33,
   "metadata": {},
   "outputs": [
    {
     "data": {
      "text/plain": [
       "array([['0', '1', '2', '3', '4'],\n",
       "       ['a', 'b', 'c', 'd', 'e']],\n",
       "      dtype='<U11')"
      ]
     },
     "execution_count": 33,
     "metadata": {},
     "output_type": "execute_result"
    }
   ],
   "source": [
    "np.stack((numbers, letters))\n",
    "np.vstack((numbers, letters))"
   ]
  },
  {
   "cell_type": "code",
   "execution_count": 27,
   "metadata": {},
   "outputs": [
    {
     "data": {
      "text/plain": [
       "array([[['0', 'a'],\n",
       "        ['1', 'b'],\n",
       "        ['2', 'c'],\n",
       "        ['3', 'd'],\n",
       "        ['4', 'e']]],\n",
       "      dtype='<U11')"
      ]
     },
     "execution_count": 27,
     "metadata": {},
     "output_type": "execute_result"
    }
   ],
   "source": [
    "np.dstack((numbers, letters))"
   ]
  },
  {
   "cell_type": "markdown",
   "metadata": {},
   "source": [
    "# 2. One Multidimentioanal Array examples"
   ]
  },
  {
   "cell_type": "code",
   "execution_count": 37,
   "metadata": {},
   "outputs": [],
   "source": [
    "import numpy as np\n",
    "numbers = np.array(((0,1),(2,3),(4,5)))\n",
    "letters = np.array((('a','b'),('c','d'),('e','f')))"
   ]
  },
  {
   "cell_type": "code",
   "execution_count": 38,
   "metadata": {},
   "outputs": [
    {
     "data": {
      "text/plain": [
       "array([['0', '1'],\n",
       "       ['2', '3'],\n",
       "       ['4', '5'],\n",
       "       ['a', 'b'],\n",
       "       ['c', 'd'],\n",
       "       ['e', 'f']],\n",
       "      dtype='<U11')"
      ]
     },
     "execution_count": 38,
     "metadata": {},
     "output_type": "execute_result"
    }
   ],
   "source": [
    "np.concatenate((numbers, letters))"
   ]
  },
  {
   "cell_type": "code",
   "execution_count": 39,
   "metadata": {},
   "outputs": [
    {
     "data": {
      "text/plain": [
       "array([['0', '1', 'a', 'b'],\n",
       "       ['2', '3', 'c', 'd'],\n",
       "       ['4', '5', 'e', 'f']],\n",
       "      dtype='<U11')"
      ]
     },
     "execution_count": 39,
     "metadata": {},
     "output_type": "execute_result"
    }
   ],
   "source": [
    "np.concatenate((numbers, letters), 1)"
   ]
  },
  {
   "cell_type": "code",
   "execution_count": 44,
   "metadata": {},
   "outputs": [
    {
     "data": {
      "text/plain": [
       "array([['0', '1', 'a', 'b'],\n",
       "       ['2', '3', 'c', 'd'],\n",
       "       ['4', '5', 'e', 'f']],\n",
       "      dtype='<U11')"
      ]
     },
     "execution_count": 44,
     "metadata": {},
     "output_type": "execute_result"
    }
   ],
   "source": [
    "np.concatenate((numbers, letters), -1)"
   ]
  },
  {
   "cell_type": "code",
   "execution_count": 47,
   "metadata": {},
   "outputs": [
    {
     "data": {
      "text/plain": [
       "array([[['0', '1'],\n",
       "        ['2', '3'],\n",
       "        ['4', '5']],\n",
       "\n",
       "       [['a', 'b'],\n",
       "        ['c', 'd'],\n",
       "        ['e', 'f']]],\n",
       "      dtype='<U11')"
      ]
     },
     "execution_count": 47,
     "metadata": {},
     "output_type": "execute_result"
    }
   ],
   "source": [
    "np.stack((numbers, letters))"
   ]
  },
  {
   "cell_type": "code",
   "execution_count": 48,
   "metadata": {},
   "outputs": [
    {
     "data": {
      "text/plain": [
       "array([[['0', '1'],\n",
       "        ['a', 'b']],\n",
       "\n",
       "       [['2', '3'],\n",
       "        ['c', 'd']],\n",
       "\n",
       "       [['4', '5'],\n",
       "        ['e', 'f']]],\n",
       "      dtype='<U11')"
      ]
     },
     "execution_count": 48,
     "metadata": {},
     "output_type": "execute_result"
    }
   ],
   "source": [
    "np.stack((numbers, letters),1)"
   ]
  },
  {
   "cell_type": "code",
   "execution_count": 49,
   "metadata": {},
   "outputs": [
    {
     "data": {
      "text/plain": [
       "array([[['0', 'a'],\n",
       "        ['1', 'b']],\n",
       "\n",
       "       [['2', 'c'],\n",
       "        ['3', 'd']],\n",
       "\n",
       "       [['4', 'e'],\n",
       "        ['5', 'f']]],\n",
       "      dtype='<U11')"
      ]
     },
     "execution_count": 49,
     "metadata": {},
     "output_type": "execute_result"
    }
   ],
   "source": [
    "#Note if you don't know the maximum number of dimentions your array would have you can use -1\n",
    "np.stack((numbers, letters),2)\n",
    "np.stack((numbers, letters),-1)"
   ]
  },
  {
   "cell_type": "code",
   "execution_count": 51,
   "metadata": {},
   "outputs": [
    {
     "data": {
      "text/plain": [
       "array([[['0', 'a'],\n",
       "        ['1', 'b']],\n",
       "\n",
       "       [['2', 'c'],\n",
       "        ['3', 'd']],\n",
       "\n",
       "       [['4', 'e'],\n",
       "        ['5', 'f']]],\n",
       "      dtype='<U11')"
      ]
     },
     "execution_count": 51,
     "metadata": {},
     "output_type": "execute_result"
    }
   ],
   "source": []
  },
  {
   "cell_type": "code",
   "execution_count": null,
   "metadata": {
    "collapsed": true
   },
   "outputs": [],
   "source": []
  }
 ],
 "metadata": {
  "kernelspec": {
   "display_name": "Python 3",
   "language": "python",
   "name": "python3"
  },
  "language_info": {
   "codemirror_mode": {
    "name": "ipython",
    "version": 3
   },
   "file_extension": ".py",
   "mimetype": "text/x-python",
   "name": "python",
   "nbconvert_exporter": "python",
   "pygments_lexer": "ipython3",
   "version": "3.6.3"
  }
 },
 "nbformat": 4,
 "nbformat_minor": 2
}
